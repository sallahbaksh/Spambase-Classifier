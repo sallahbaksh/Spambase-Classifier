{
 "cells": [
  {
   "cell_type": "markdown",
   "metadata": {},
   "source": [
    "#### Naive Bayes Spam Classification"
   ]
  },
  {
   "cell_type": "code",
   "execution_count": 1,
   "metadata": {},
   "outputs": [],
   "source": [
    "# imports\n",
    "\n",
    "import numpy as np\n",
    "from sklearn.model_selection import train_test_split\n",
    "from scipy.stats import norm\n",
    "from statistics import *"
   ]
  },
  {
   "cell_type": "code",
   "execution_count": 2,
   "metadata": {},
   "outputs": [],
   "source": [
    "# read in the data\n",
    "X = np.array(np.genfromtxt('spambase.data', delimiter=','))\n",
    "\n",
    "# seed random number generator with zero\n",
    "np.random.seed(0)"
   ]
  },
  {
   "cell_type": "code",
   "execution_count": 3,
   "metadata": {},
   "outputs": [],
   "source": [
    "# create y matrix (last column) and convert from 1D to 2D matrix\n",
    "y_mat = np.reshape(X[:, -1], (-1, 1))\n",
    "\n",
    "# spam data\n",
    "spam_x = X[(X[:, -1] == 1).nonzero()]\n",
    "spam_y = np.reshape(spam_x[:, -1], (-1, 1))\n",
    "spam_x = np.array(spam_x[:, :-1])\n",
    "\n",
    "# non-spam data\n",
    "non_spam_x = X[(X[:, -1] == 0).nonzero()]\n",
    "non_spam_y = np.reshape(non_spam_x[:, -1], (-1, 1))\n",
    "non_spam_x = np.array(non_spam_x[:, :-1])\n",
    "\n",
    "# create x matrix - all rows/column excluding last one\n",
    "x_mat = X[:, :-1]"
   ]
  },
  {
   "cell_type": "code",
   "execution_count": 4,
   "metadata": {},
   "outputs": [],
   "source": [
    "# split data into training and testing data\n",
    "train_x, test_x, train_y, test_y = train_test_split(x_mat, y_mat, test_size=0.33)\n",
    "spam_x_train, spam_x_test, spam_y_train, spam_y_test = train_test_split(spam_x, spam_y, test_size=0.33)\n",
    "non_spam_x_train, non_spam_x_test, non_spam_y_train, non_spam_y_test = train_test_split(non_spam_x, non_spam_y, test_size=0.33)"
   ]
  },
  {
   "cell_type": "code",
   "execution_count": 5,
   "metadata": {},
   "outputs": [],
   "source": [
    "mean = np.mean(train_x, axis=0)\n",
    "std = np.std(train_x, axis=0, ddof=1)\n",
    "\n",
    "spam_prior = spam_x.shape[0] / x_mat.shape[0]\n",
    "non_spam_prior = non_spam_x.shape[0] / x_mat.shape[0]\n",
    "\n",
    "# standardize spam and non spam data\n",
    "spam_x_train = np.divide(np.subtract(spam_x_train, mean), std)\n",
    "non_spam_x_train = np.divide(np.subtract(non_spam_x_train, mean), std)\n",
    "\n",
    "spam_x_train_mean = np.mean(spam_x_train, axis=0)\n",
    "spam_x_train_std = spam_x_train.std(axis=0)\n",
    "non_spam_x_train_mean = np.mean(non_spam_x_train, axis=0)\n",
    "non_spam_x_train_std = non_spam_x_train.std(axis=0)\n",
    "\n",
    "# standardize test data\n",
    "s_test_x = np.divide(np.subtract(test_x, mean), std)"
   ]
  },
  {
   "cell_type": "code",
   "execution_count": 6,
   "metadata": {},
   "outputs": [],
   "source": [
    "spam_norm = norm.pdf(s_test_x, spam_x_train_mean, spam_x_train_std)\n",
    "spam_norm = np.add(spam_norm, np.finfo(float).eps)\n",
    "\n",
    "non_spam_norm = norm.pdf(s_test_x, non_spam_x_train_mean, non_spam_x_train_std)\n",
    "non_spam_norm = np.add(non_spam_norm, np.finfo(float).eps)\n",
    "\n",
    "prob_spam = np.prod(spam_norm, axis=1) * spam_prior\n",
    "prob_non_spam = np.prod(non_spam_norm, axis=1) * non_spam_prior"
   ]
  },
  {
   "cell_type": "code",
   "execution_count": 7,
   "metadata": {},
   "outputs": [
    {
     "name": "stdout",
     "output_type": "stream",
     "text": [
      "accuracy:  76.30019749835418 %\n",
      "precision:  63.665594855305464 %\n",
      "recall:  96.58536585365853 %\n",
      "f_measure:  76.74418604651163 %\n"
     ]
    }
   ],
   "source": [
    "y_pred = [1 if prob_spam[i] > prob_non_spam[i] else 0 for i in range(prob_spam.shape[0])]\n",
    "\n",
    "TP, TN, FP, FN = confusion_matrix(y_pred, test_y)   \n",
    "print(\"accuracy: \", calc_accuracy(TP, TN, test_y.shape[0]) * 100, \"%\")\n",
    "print(\"precision: \", calc_precision(TP, FP) * 100, \"%\")\n",
    "print(\"recall: \", calc_recall(TP, FN) * 100, \"%\")\n",
    "print(\"f_measure: \", calc_f_measure(TP, FP, FN) * 100, \"%\")"
   ]
  }
 ],
 "metadata": {
  "kernelspec": {
   "display_name": "Python 3",
   "language": "python",
   "name": "python3"
  },
  "language_info": {
   "codemirror_mode": {
    "name": "ipython",
    "version": 3
   },
   "file_extension": ".py",
   "mimetype": "text/x-python",
   "name": "python",
   "nbconvert_exporter": "python",
   "pygments_lexer": "ipython3",
   "version": "3.8.5"
  }
 },
 "nbformat": 4,
 "nbformat_minor": 4
}
